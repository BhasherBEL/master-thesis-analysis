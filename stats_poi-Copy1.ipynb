{
 "cells": [
  {
   "cell_type": "code",
   "execution_count": 1,
   "id": "ce1bd534-349e-4c2d-8528-661012d03803",
   "metadata": {},
   "outputs": [],
   "source": [
    "import pandas as pd\n",
    "from matplotlib import pyplot as plt\n",
    "import seaborn as sns\n",
    "import numpy as np\n",
    "import os"
   ]
  },
  {
   "cell_type": "code",
   "execution_count": 2,
   "id": "9d3e0517-79af-46a2-8c89-bac0e70b2082",
   "metadata": {},
   "outputs": [],
   "source": [
    "sns.set()"
   ]
  },
  {
   "cell_type": "code",
   "execution_count": 3,
   "id": "daea1e2b-bef9-4a9a-b13e-7f8969181548",
   "metadata": {},
   "outputs": [],
   "source": [
    "poi_x, poi_y = (2,5)\n",
    "close_dist = 1.5\n",
    "far_dist = 6\n",
    "data_dir = 'data/exp1'"
   ]
  },
  {
   "cell_type": "code",
   "execution_count": 4,
   "id": "52074803-bbd2-4d06-aedd-d230efdc8408",
   "metadata": {},
   "outputs": [],
   "source": [
    "csv_files = [f for f in os.listdir(data_dir) if f.endswith(\".csv\")]"
   ]
  },
  {
   "cell_type": "code",
   "execution_count": 6,
   "id": "c5986bf3-b755-4f1b-a6a6-fa634617fce1",
   "metadata": {},
   "outputs": [],
   "source": [
    "dfs = [\n",
    "    pd.read_csv(os.path.join(data_dir, csv), parse_dates=['time']).assign(dataset_index=i + 1)\n",
    "    for i, csv in enumerate(csv_files)\n",
    "]"
   ]
  },
  {
   "cell_type": "code",
   "execution_count": 62,
   "id": "67c36e11-aaee-4272-b9f0-50fc10cc0422",
   "metadata": {},
   "outputs": [],
   "source": [
    "dfc = dfs[0] # pd.concat(dfs, keys=range(len(dfs)))"
   ]
  },
  {
   "cell_type": "code",
   "execution_count": 63,
   "id": "8a94466a-2c4a-4cd4-970f-e95ee87b4d4c",
   "metadata": {},
   "outputs": [],
   "source": [
    "step_times = [\n",
    "    dfc[dfc['xp_step'] == s]['time'].iloc[0]\n",
    "    for s\n",
    "    in range(0, max(dfc['xp_step']+1))\n",
    "]\n",
    "step_times.append(max(dfc['time']))"
   ]
  },
  {
   "cell_type": "code",
   "execution_count": 64,
   "id": "86d04ef2-d9ad-4513-98b8-c1105b923988",
   "metadata": {},
   "outputs": [],
   "source": [
    "dfc = dfc[(dfc['x'] != 0) & (dfc['y'] != 0) & (dfc['xp_step'] >= 0)].reset_index(drop=True)"
   ]
  },
  {
   "cell_type": "code",
   "execution_count": 65,
   "id": "624f5ec9-3aa0-4ab2-86f9-2f1a16172765",
   "metadata": {},
   "outputs": [],
   "source": [
    "theorical_positions = []\n",
    "\n",
    "for i, row in dfc.iterrows():\n",
    "    if row['xp_step'] in [0, 4]:\n",
    "        theorical_positions.append([8, 5])\n",
    "    elif row['xp_step'] in [2]:\n",
    "        theorical_positions.append([3, 5])\n",
    "    elif row['xp_step'] in [1]:\n",
    "        theorical_positions.append([8 - (row['time']-step_times[1]) / (step_times[2]-step_times[1]) * 5, 5])\n",
    "    elif row['xp_step'] in [3]:\n",
    "        theorical_positions.append([ (row['time']-step_times[3]) / (step_times[4]-step_times[3]) * 5 + 3, 5])\n",
    "    else:\n",
    "        print(row)\n",
    "    \n",
    "dfc['theorical_x'], dfc['theorical_y'] = np.array(theorical_positions).T"
   ]
  },
  {
   "cell_type": "code",
   "execution_count": 67,
   "id": "8c9e719e-5374-4cc0-a177-a0cafceba2ba",
   "metadata": {},
   "outputs": [],
   "source": [
    "dfc['poi_dist_calc'] = ((dfc['x']-poi_x)**2 + (dfc['y']-poi_y)**2)**0.5\n",
    "dfc['poi_dist_theorical'] = ((dfc['theorical_x']-poi_x)**2 + (dfc['theorical_y']-poi_y)**2)**0.5"
   ]
  },
  {
   "cell_type": "code",
   "execution_count": 68,
   "id": "321149f2-05a5-4e7f-a698-09e93688b39a",
   "metadata": {},
   "outputs": [],
   "source": [
    "dfc['error_dist'] = ((dfc['x']-dfc['theorical_x'])**2 + (dfc['y']-dfc['theorical_y'])**2)**0.5"
   ]
  },
  {
   "cell_type": "code",
   "execution_count": 71,
   "id": "1ca5aa09-083a-4161-a47f-cc7103eaebbc",
   "metadata": {},
   "outputs": [],
   "source": [
    "dfc['error_poi_dist'] = (dfc['poi_dist_theorical']-dfc['poi_dist_calc']).abs()"
   ]
  },
  {
   "cell_type": "code",
   "execution_count": 76,
   "id": "83f50aa6-e30d-4d2c-a8c9-4c3c15fe6ae9",
   "metadata": {},
   "outputs": [
    {
     "data": {
      "text/plain": [
       "<matplotlib.collections.PathCollection at 0x7f90cffd4350>"
      ]
     },
     "execution_count": 76,
     "metadata": {},
     "output_type": "execute_result"
    },
    {
     "data": {
      "image/png": "[encoded data removed]",
      "text/plain": [
       "<Figure size 640x480 with 1 Axes>"
      ]
     },
     "metadata": {},
     "output_type": "display_data"
    }
   ],
   "source": [
    "plt.scatter(dfc['poi_dist_theorical'], dfc['error_poi_dist'])"
   ]
  }
 ],
 "metadata": {
  "kernelspec": {
   "display_name": "Python 3 (ipykernel)",
   "language": "python",
   "name": "python3"
  },
  "language_info": {
   "codemirror_mode": {
    "name": "ipython",
    "version": 3
   },
   "file_extension": ".py",
   "mimetype": "text/x-python",
   "name": "python",
   "nbconvert_exporter": "python",
   "pygments_lexer": "ipython3",
   "version": "3.12.9"
  }
 },
 "nbformat": 4,
 "nbformat_minor": 5
}
