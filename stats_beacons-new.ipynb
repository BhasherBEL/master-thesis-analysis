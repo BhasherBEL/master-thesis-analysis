{
 "cells": [
  {
   "cell_type": "code",
   "execution_count": 41,
   "id": "ce1bd534-349e-4c2d-8528-661012d03803",
   "metadata": {},
   "outputs": [
    {
     "ename": "ModuleNotFoundError",
     "evalue": "No module named 'scipy'",
     "output_type": "error",
     "traceback": [
      "\u001b[0;31m---------------------------------------------------------------------------\u001b[0m",
      "\u001b[0;31mModuleNotFoundError\u001b[0m                       Traceback (most recent call last)",
      "Cell \u001b[0;32mIn[41], line 9\u001b[0m\n\u001b[1;32m      7\u001b[0m \u001b[38;5;28;01mimport\u001b[39;00m\u001b[38;5;250m \u001b[39m\u001b[38;5;21;01mmath\u001b[39;00m\n\u001b[1;32m      8\u001b[0m \u001b[38;5;28;01mfrom\u001b[39;00m\u001b[38;5;250m \u001b[39m\u001b[38;5;21;01mcollections\u001b[39;00m\u001b[38;5;250m \u001b[39m\u001b[38;5;28;01mimport\u001b[39;00m defaultdict\n\u001b[0;32m----> 9\u001b[0m \u001b[38;5;28;01mfrom\u001b[39;00m\u001b[38;5;250m \u001b[39m\u001b[38;5;21;01mscipy\u001b[39;00m\u001b[38;5;250m \u001b[39m\u001b[38;5;28;01mimport\u001b[39;00m stats\n",
      "\u001b[0;31mModuleNotFoundError\u001b[0m: No module named 'scipy'"
     ]
    }
   ],
   "source": [
    "import pandas as pd\n",
    "from matplotlib import pyplot as plt\n",
    "from matplotlib.ticker import ScalarFormatter, PercentFormatter\n",
    "import seaborn as sns\n",
    "import numpy as np\n",
    "import os\n",
    "import math\n",
    "from collections import defaultdict\n",
    "from scipy import stats"
   ]
  },
  {
   "cell_type": "code",
   "execution_count": 2,
   "id": "9d3e0517-79af-46a2-8c89-bac0e70b2082",
   "metadata": {},
   "outputs": [],
   "source": [
    "sns.set()\n",
    "sns.set_palette('pastel')"
   ]
  },
  {
   "cell_type": "markdown",
   "id": "4191dcf2-fa08-4dbc-9f7a-005c8db88e47",
   "metadata": {},
   "source": [
    "## Helpers"
   ]
  },
  {
   "cell_type": "code",
   "execution_count": 3,
   "id": "7f0f4a47-e748-48f3-ac23-51a88072f5ed",
   "metadata": {},
   "outputs": [],
   "source": [
    "def rssi2meters(rssi, tx=-59, N=2):\n",
    "  return 10 ** (-(rssi - tx) / (10 * N))"
   ]
  },
  {
   "cell_type": "code",
   "execution_count": 4,
   "id": "15485603-2684-45cc-a46e-96ff12a30c89",
   "metadata": {},
   "outputs": [],
   "source": [
    "def meters2rssi(meters, tx=-59, N=2):\n",
    "    return -10 * N * math.log10(meters) + tx"
   ]
  },
  {
   "cell_type": "code",
   "execution_count": 5,
   "id": "6229ea6b-c6d9-47fb-8be7-587836f24314",
   "metadata": {},
   "outputs": [],
   "source": [
    "class KalmanFilter:\n",
    "    def __init__(self, process_noise=0.1, sensor_noise=3.5, estimated_error=0, value=None):\n",
    "        self.process_noise = process_noise\n",
    "        self.sensor_noise = sensor_noise\n",
    "        self.estimated_error = estimated_error\n",
    "        self.prediction_cycles = 0\n",
    "        self.value = value\n",
    "        \n",
    "    def get_filtered_value(self, measurement):\n",
    "        # prediction phase\n",
    "        self.estimated_error += self.process_noise\n",
    "        \n",
    "        if self.value is None:\n",
    "            self.value = measurement\n",
    "        \n",
    "        # measurement update\n",
    "        kalman_gain = self.estimated_error / (self.estimated_error + self.sensor_noise)\n",
    "        self.value = self.value + kalman_gain * (measurement - self.value)\n",
    "        self.estimated_error = (1 - kalman_gain) * self.estimated_error\n",
    "        \n",
    "        return self.value"
   ]
  },
  {
   "cell_type": "markdown",
   "id": "e00c6368-ac7b-434a-9429-2819af4d2ab0",
   "metadata": {},
   "source": [
    "## Raw Analysis"
   ]
  },
  {
   "cell_type": "code",
   "execution_count": 6,
   "id": "daea1e2b-bef9-4a9a-b13e-7f8969181548",
   "metadata": {},
   "outputs": [],
   "source": [
    "poi_x, poi_y = (2,5)\n",
    "close_dist = 1.5\n",
    "far_dist = 6\n",
    "data_dir = 'data/exp1-distance'"
   ]
  },
  {
   "cell_type": "code",
   "execution_count": 11,
   "id": "f714e8fa-160b-4cbd-a2a8-39095df0354d",
   "metadata": {},
   "outputs": [],
   "source": [
    "beacons_positions = {1: (0, 0), 2: (0, 0), 3: (0,0)}"
   ]
  },
  {
   "cell_type": "code",
   "execution_count": 7,
   "id": "52074803-bbd2-4d06-aedd-d230efdc8408",
   "metadata": {},
   "outputs": [],
   "source": [
    "csv_files = [f for f in os.listdir(data_dir) if f.endswith(\".csv\")]"
   ]
  },
  {
   "cell_type": "code",
   "execution_count": 8,
   "id": "c5986bf3-b755-4f1b-a6a6-fa634617fce1",
   "metadata": {},
   "outputs": [
    {
     "data": {
      "text/plain": [
       "3"
      ]
     },
     "execution_count": 8,
     "metadata": {},
     "output_type": "execute_result"
    }
   ],
   "source": [
    "dfs = [\n",
    "    pd.read_csv(os.path.join(data_dir, csv), parse_dates=['time']).assign(dataset_index=i + 1)\n",
    "    for i, csv in enumerate(csv_files)\n",
    "]\n",
    "size = len(dfs)\n",
    "size"
   ]
  },
  {
   "cell_type": "code",
   "execution_count": 89,
   "id": "67c36e11-aaee-4272-b9f0-50fc10cc0422",
   "metadata": {},
   "outputs": [],
   "source": [
    "res_mean = defaultdict(lambda: defaultdict(int))\n",
    "\n",
    "for N in np.arange(1, 4.01, 0.01):\n",
    "    \n",
    "    dfc_all = []\n",
    "    for i, df in enumerate(dfs):\n",
    "        df['experiment'] = i\n",
    "    \n",
    "        # Step time\n",
    "        step_times = [\n",
    "            df[df['xp_step'] == s]['time'].iloc[0]\n",
    "            for s\n",
    "            in range(0, max(df['xp_step']+1))\n",
    "        ]\n",
    "        step_times.append(max(df['time']))\n",
    "    \n",
    "        # Cleaning\n",
    "        df = df[(df['xp_step'] >= 0)].reset_index(drop=True)\n",
    "    \n",
    "        for i in range(1, size+1):\n",
    "            df[f'ESP32-{i}_new_raw_dist'] = [rssi2meters(v, tx=-69, N=N) for v in df[f'ESP32-{i}_rssi']]\n",
    "            \n",
    "            kf = KalmanFilter()\n",
    "            df[f'ESP32-{i}_filtered_rssi'] = df[f'ESP32-{i}_rssi'].apply(lambda x: kf.get_filtered_value(x))\n",
    "            \n",
    "            kf = KalmanFilter()\n",
    "            df[f'ESP32-{i}_old_filtered_dist'] = df[f'ESP32-{i}_raw_dist'].apply(lambda x: kf.get_filtered_value(x))\n",
    "            \n",
    "            kf = KalmanFilter()\n",
    "            df[f'ESP32-{i}_new_filtered_dist'] = df[f'ESP32-{i}_new_raw_dist'].apply(lambda x: kf.get_filtered_value(x))\n",
    "    \n",
    "        # Intermediate steps cleaning\n",
    "        df = df[df['xp_step'] % 2 == 0].reset_index(drop=True)\n",
    "    \n",
    "        # Theory\n",
    "        theorical_positions = []\n",
    "    \n",
    "        for i, row in df.iterrows():\n",
    "            theorical_positions.append((row['xp_step'] // 2, 0))\n",
    "            \n",
    "        df['theorical_x'], df['theorical_y'] = np.array(theorical_positions).T\n",
    "    \n",
    "        dfc_all.append(df)\n",
    "    dfc = pd.concat(dfc_all)\n",
    "\n",
    "    for i in range(1, size+1):\n",
    "        dfc[f'ESP32-{i}_theorical_dist'] = ((dfc['theorical_x']-beacons_positions[i][0])**2+(dfc['theorical_y']-beacons_positions[i][1])**2)**0.5\n",
    "        dfc[f'ESP32-{i}_error_raw_dist'] = abs(dfc[f'ESP32-{i}_theorical_dist']-dfc[f'ESP32-{i}_raw_dist'])\n",
    "        dfc[f'ESP32-{i}_error_filtered_dist'] = abs(dfc[f'ESP32-{i}_theorical_dist']-dfc[f'ESP32-{i}_filtered_dist'])\n",
    "        dfc[f'ESP32-{i}_error_new_dist'] = abs(dfc[f'ESP32-{i}_theorical_dist']-dfc[f'ESP32-{i}_new_raw_dist'])\n",
    "        dfc[f'ESP32-{i}_error_new_filtered_dist'] = abs(dfc[f'ESP32-{i}_theorical_dist']-dfc[f'ESP32-{i}_new_filtered_dist'])\n",
    "\n",
    "\n",
    "    # Create a list to hold the dataframes for each ESP32\n",
    "    dfs_list = []\n",
    "    \n",
    "    for i in range(1, size+1):\n",
    "        # Select columns for this ESP32\n",
    "        cols = [\n",
    "            f'ESP32-{i}_rssi',\n",
    "            f'ESP32-{i}_filtered_rssi',\n",
    "            f'ESP32-{i}_theorical_dist',\n",
    "            f'ESP32-{i}_error_raw_dist',\n",
    "            f'ESP32-{i}_error_filtered_dist',\n",
    "            f'ESP32-{i}_error_new_dist',\n",
    "            f'ESP32-{i}_error_new_filtered_dist',\n",
    "            f'ESP32-{i}_raw_dist',\n",
    "            f'ESP32-{i}_new_raw_dist',\n",
    "            f'ESP32-{i}_filtered_dist',\n",
    "            f'ESP32-{i}_new_filtered_dist',\n",
    "            'experiment',\n",
    "        ]\n",
    "        \n",
    "        # Create a dataframe with only the rows where this ESP32's RSSI is not null\n",
    "        df_esp = dfc[cols].rename(\n",
    "            columns={\n",
    "                f'ESP32-{i}_rssi': 'rssi',\n",
    "                f'ESP32-{i}_filtered_rssi': 'filtered_rssi',\n",
    "                f'ESP32-{i}_theorical_dist': 'theorical_dist',\n",
    "                f'ESP32-{i}_error_raw_dist': 'error_raw_dist',\n",
    "                f'ESP32-{i}_error_filtered_dist': 'error_filtered_dist',\n",
    "                f'ESP32-{i}_error_new_dist': 'error_new_dist',\n",
    "                f'ESP32-{i}_error_new_filtered_dist': 'error_new_filtered_dist',\n",
    "                f'ESP32-{i}_raw_dist': 'raw_dist',\n",
    "                f'ESP32-{i}_new_raw_dist': 'new_raw_dist',\n",
    "                f'ESP32-{i}_filtered_dist': 'filtered_dist',\n",
    "                f'ESP32-{i}_new_filtered_dist': 'new_filtered_dist',\n",
    "            }\n",
    "        )\n",
    "        \n",
    "        # Only keep rows where RSSI is not null\n",
    "        df_esp = df_esp.dropna(subset=['rssi']).copy()\n",
    "        \n",
    "        # Add beacon identifier\n",
    "        df_esp['beacon'] = i\n",
    "        \n",
    "        # Add to list if there are any valid rows\n",
    "        if not df_esp.empty:\n",
    "            dfs_list.append(df_esp)\n",
    "    \n",
    "    # Concatenate all the dataframes\n",
    "    dft = pd.concat(dfs_list, ignore_index=True)\n",
    "\n",
    "    res_mean[N] = dft[['error_new_filtered_dist', 'beacon']].groupby('beacon').mean()['error_new_filtered_dist'].to_dict()"
   ]
  },
  {
   "cell_type": "code",
   "execution_count": 90,
   "id": "7076b87a-0602-4b88-813d-effb93bee0b3",
   "metadata": {},
   "outputs": [],
   "source": [
    "sdf_mean = pd.DataFrame.from_dict(res_mean, orient='index')\n",
    "sdf_mean.columns = ['ESP-1', 'ESP-2', 'ESP-3']\n",
    "sdf_mean['mean'] = sdf_mean.mean(axis=1)"
   ]
  },
  {
   "cell_type": "code",
   "execution_count": 91,
   "id": "af9ce311-da62-4869-a261-25510d6bbc7c",
   "metadata": {},
   "outputs": [
    {
     "data": {
      "text/plain": [
       "np.float64(2.070000000000001)"
      ]
     },
     "execution_count": 91,
     "metadata": {},
     "output_type": "execute_result"
    }
   ],
   "source": [
    "imin = sdf_mean['mean'].idxmin()\n",
    "imin"
   ]
  },
  {
   "cell_type": "code",
   "execution_count": 94,
   "id": "c7510599-3553-4e7e-9e9e-56c38621c804",
   "metadata": {},
   "outputs": [],
   "source": [
    "sdf_mean.to_csv('data/tmp/mse-n-corridor.csv')"
   ]
  },
  {
   "cell_type": "code",
   "execution_count": 92,
   "id": "134636a0-aa60-4846-979f-764043ac20b1",
   "metadata": {},
   "outputs": [
    {
     "data": {
      "image/png": "[encoded data removed]",
      "text/plain": [
       "<Figure size 500x400 with 1 Axes>"
      ]
     },
     "metadata": {},
     "output_type": "display_data"
    }
   ],
   "source": [
    "plt.figure(figsize=(5, 4))\n",
    "plt.subplots_adjust(bottom=0.13, top=0.94, left=0.07, right=0.98)\n",
    "sns.lineplot(data=sdf_mean)\n",
    "plt.axvline(x=imin, label=f'min(mean) = {imin:.2f}', color='magenta', lw=1)\n",
    "plt.legend()\n",
    "plt.ylim(bottom=0)\n",
    "plt.xlim((1, 4))\n",
    "plt.yscale('symlog')\n",
    "plt.xlabel('Environmental factor (N)')\n",
    "plt.ylabel('MSE (log)')\n",
    "plt.title('MSE in function of the environmental factor (N) in the corridor')\n",
    "plt.savefig('out/beacon-corridor-MSE-N.pdf')"
   ]
  }
 ],
 "metadata": {
  "kernelspec": {
   "display_name": "Python 3 (ipykernel)",
   "language": "python",
   "name": "python3"
  },
  "language_info": {
   "codemirror_mode": {
    "name": "ipython",
    "version": 3
   },
   "file_extension": ".py",
   "mimetype": "text/x-python",
   "name": "python",
   "nbconvert_exporter": "python",
   "pygments_lexer": "ipython3",
   "version": "3.12.9"
  }
 },
 "nbformat": 4,
 "nbformat_minor": 5
}
